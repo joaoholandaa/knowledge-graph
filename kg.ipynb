{
  "nbformat": 4,
  "nbformat_minor": 0,
  "metadata": {
    "colab": {
      "provenance": [],
      "authorship_tag": "ABX9TyMoIez8oxGyRRJH5JN2sT+A",
      "include_colab_link": true
    },
    "kernelspec": {
      "name": "python3",
      "display_name": "Python 3"
    },
    "language_info": {
      "name": "python"
    }
  },
  "cells": [
    {
      "cell_type": "markdown",
      "metadata": {
        "id": "view-in-github",
        "colab_type": "text"
      },
      "source": [
        "<a href=\"https://colab.research.google.com/github/joaoholandaa/knowledge-graph/blob/main/kg.ipynb\" target=\"_parent\"><img src=\"https://colab.research.google.com/assets/colab-badge.svg\" alt=\"Open In Colab\"/></a>"
      ]
    },
    {
      "cell_type": "markdown",
      "source": [
        "###**What is Knowledge Graph?**<br>\n",
        "A knowledge graph is a way of storing data that resulted from an information extraction task. Many basic implementation of knowledge graphs make use of concept we call triple, that is a set of three items (a subject, a predicate and an object) that we can use to store information about something.<br>\n",
        "We can define a graph as a set of nodes and edges.<br>\n",
        "(Node A) -----Edge(relationship)-----> (Node B) <br>\n",
        "Node A and Node B here are two different entities. These node are connected by an edge that represents the relationship between the two nodes. Now, this is the smallest knowledge graph we can build - it is also known as a triple. Knowledge Graph's come in a variety of shapes and sizes."
      ],
      "metadata": {
        "id": "AWaNWr0QgUQs"
      }
    },
    {
      "cell_type": "markdown",
      "source": [
        "###**Data Representation in Knowlegde Graph**<br>\n",
        "Let's take this sentence as an example:<br>\n",
        "**London is the capital of England. Westminster is located in London.**<br>\n",
        "After some basic processing which we will see later, we would 2 triples like this: <br>\n",
        "**(London, be capital, England), (Westminster, locate, London)**<br>\n",
        "So in this example we have three unique entities (London, England and Westwinster) and two relations (be capital, locate). To build a knowledge graph, we only have two associated nodes in the graph with entities and vertices with the relations and we will get something like this: Manually building a knowledge graph is not scalable. Nobody is going to go through thousands of documents and extract all the entities and the relations between them!<br>\n",
        "That's why machines are more suitable to perform this task as going through even hundreds or thousands of documents is child's play for them. But then there is another challenge - machines do not understand natural language. This is where Natural Language Processing (NLP) comes into the picture.<br>\n",
        "To build a knowledge graph from the text, it is important to make our machine understand natural language. This can be done by using NLP techniques such as sentence segmentation, dependency parsing, parts of speech tagging and entity recognition."
      ],
      "metadata": {
        "id": "SpC1Red5iHVS"
      }
    }
  ]
}